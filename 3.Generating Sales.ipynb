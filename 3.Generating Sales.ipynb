{
 "cells": [
  {
   "cell_type": "markdown",
   "id": "46e99bc0-0baa-4f88-a1ad-d4fe39d0ca66",
   "metadata": {},
   "source": [
    "# 4.Generating Sales Report"
   ]
  },
  {
   "cell_type": "code",
   "execution_count": 2,
   "id": "cccdf1dd-a666-43cb-bdc7-c3619fe0fc27",
   "metadata": {},
   "outputs": [],
   "source": [
    "fd = open('Inventory.txt','r')\n",
    "products = fd.read().split('\\n')\n",
    "fd.close()"
   ]
  },
  {
   "cell_type": "code",
   "execution_count": 3,
   "id": "c5711b4f-519f-4f7f-b12f-ae1d606eb542",
   "metadata": {},
   "outputs": [
    {
     "name": "stdout",
     "output_type": "stream",
     "text": [
      "1,5 Star,5,90\n",
      "['1', '5 Star', '5', '90']\n",
      "2,Milky Bar,5,50\n",
      "['2', 'Milky Bar', '5', '50']\n",
      "3,Cake,300,10\n",
      "['3', 'Cake', '300', '10']\n",
      "4,Candy,2,240\n",
      "['4', 'Candy', '2', '240']\n"
     ]
    }
   ],
   "source": [
    "for product in products:\n",
    "    print(product)\n",
    "    print(product.split(','))"
   ]
  },
  {
   "cell_type": "code",
   "execution_count": 4,
   "id": "ef8e116c-ba68-4f81-8fe5-14f399c08a29",
   "metadata": {},
   "outputs": [
    {
     "name": "stdout",
     "output_type": "stream",
     "text": [
      "1,5 Star,5,90\n",
      "2,Milky Bar,5,50\n",
      "3,Cake,300,10\n",
      "4,Candy,2,240\n"
     ]
    }
   ],
   "source": [
    "for i in products:\n",
    "    print(i)"
   ]
  },
  {
   "cell_type": "code",
   "execution_count": 14,
   "id": "133458a4-a702-4aa3-8c89-e974185336d5",
   "metadata": {},
   "outputs": [
    {
     "name": "stdin",
     "output_type": "stream",
     "text": [
      "Enter your name:  prakash\n",
      "Enter your phone no.:  4587965896\n",
      "Enter your mail:  dsjfbijdb@fkgnefj\n",
      "Enter product ID:  3\n",
      "Enter product Quantity:  5\n"
     ]
    },
    {
     "name": "stdout",
     "output_type": "stream",
     "text": [
      "-----------------------------\n",
      "Product Name     :  Cake\n",
      "Price            :  300\n",
      "Quantity         :  5\n",
      "-----------------------------\n",
      "Billing Amount   :  1500\n",
      "-----------------------------\n",
      "-------------------\n",
      "Inventory Updated\n"
     ]
    }
   ],
   "source": [
    "import time\n",
    "# Reading the Inventory\n",
    "fd = open('Inventory.txt', 'r')  \n",
    "products = fd.read().split('\\n')\n",
    "fd.close()\n",
    "\n",
    "# Taking User Input\n",
    "ui_username = input(\"Enter your name: \")\n",
    "ui_phone_no = input(\"Enter your phone no.: \")\n",
    "ui_mail = input(\"Enter your mail: \")\n",
    "ui_prod_id = input(\"Enter product ID: \")\n",
    "ui_prod_qn = input(\"Enter product Quantity: \")\n",
    "\n",
    "updated_product_lst = []\n",
    "\n",
    "# Going through each product detail\n",
    "for product in products:\n",
    "    \n",
    "    prod_details = product.split(',')\n",
    "    \n",
    "    # Ensuring we have 4 elements in prod_details before accessing them\n",
    "    if len(prod_details) == 4:\n",
    "        if prod_details[0] == ui_prod_id:\n",
    "            # Checking if product exists or not\n",
    "\n",
    "            if int(ui_prod_qn) <= int(prod_details[3]):\n",
    "                # If we're having enough quantity\n",
    "                print(\"-----------------------------\")\n",
    "                print(\"Product Name     : \", prod_details[1])\n",
    "                print(\"Price            : \", prod_details[2]) \n",
    "                print(\"Quantity         : \", ui_prod_qn) \n",
    "                print(\"-----------------------------\")\n",
    "                print(\"Billing Amount   : \", int(ui_prod_qn) * int(prod_details[2]))\n",
    "                print(\"-----------------------------\")\n",
    "                ## Updating Inventory list\n",
    "                prod_details[3] = str(int(prod_details[3]) - int(ui_prod_qn))\n",
    "\n",
    "                ## Generating the sales file in sales.txt\n",
    "                fd = open('Sales.txt', 'a')\n",
    "                sales_detail = ui_username +','+ ui_phone_no +','+ ui_mail +','+ ui_prod_id +','+ ui_prod_qn +','+ str(int(ui_prod_qn) * int(prod_details[2])) +','+time.ctime() + '\\n' \n",
    "                fd.write(sales_detail)\n",
    "                fd.close()\n",
    "\n",
    "            \n",
    "            else:\n",
    "                # If we're not having enough quantity\n",
    "                print(\"Sorry, we're not having enough quantity.\")\n",
    "                print(\"We're having only\", prod_details[3], 'quantity.')\n",
    "                print(\"Would you like to purchase it?\")\n",
    "                \n",
    "                ch = input(\"Press Y/N: \")\n",
    "                \n",
    "                if ch.lower() == 'y':\n",
    "                    # If you want to purchase with remaining quantity\n",
    "                    print(\"-----------------------------\")\n",
    "                    print(\"Product Name     : \", prod_details[1])\n",
    "                    print(\"Price            : \", prod_details[2]) \n",
    "                    print(\"Quantity         : \", prod_details[3]) \n",
    "                    print(\"-----------------------------\")\n",
    "                    print(\"Billing Amount   : \", int(prod_details[3]) * int(prod_details[2]))\n",
    "                    print(\"-----------------------------\")\n",
    "                    ## Updating Inventory list\n",
    "                    prod_details[3] = '0'\n",
    "                else:\n",
    "                    print(\"Thanks\")\n",
    "                # Updating my Inventory List\n",
    "        updated_product_lst.append(prod_details)\n",
    "    else:\n",
    "        # Handle cases with incorrect or incomplete product details\n",
    "        print(f\"Skipping incomplete product details: {prod_details}\")\n",
    "# Updating the Inventory String\n",
    "lst = []\n",
    "\n",
    "for i in updated_product_lst:\n",
    "    prod = i[0] + \",\" + i[1] + \",\" + i[2] + \",\" + i[3] + '\\n'\n",
    "    lst.append(prod)\n",
    "\n",
    "# Remove the last newline character\n",
    "if lst:\n",
    "    lst[-1] = lst[-1][:-1]\n",
    "\n",
    "# Updating Inventory File\n",
    "with open('Inventory.txt', 'w') as fd:\n",
    "    for i in lst:\n",
    "        fd.write(i)\n",
    "\n",
    "print(\"-------------------\")\n",
    "print(\"Inventory Updated\")"
   ]
  },
  {
   "cell_type": "code",
   "execution_count": null,
   "id": "29ab3345-907f-4b7a-933a-3c08b12f53f9",
   "metadata": {},
   "outputs": [],
   "source": []
  }
 ],
 "metadata": {
  "kernelspec": {
   "display_name": "Python 3 (ipykernel)",
   "language": "python",
   "name": "python3"
  },
  "language_info": {
   "codemirror_mode": {
    "name": "ipython",
    "version": 3
   },
   "file_extension": ".py",
   "mimetype": "text/x-python",
   "name": "python",
   "nbconvert_exporter": "python",
   "pygments_lexer": "ipython3",
   "version": "3.10.7"
  }
 },
 "nbformat": 4,
 "nbformat_minor": 5
}
