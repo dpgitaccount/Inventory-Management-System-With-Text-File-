{
 "cells": [
  {
   "cell_type": "markdown",
   "id": "3c102833-2a14-49cb-9a3a-b4955d30bed1",
   "metadata": {},
   "source": [
    "# 3.Updating Inventory"
   ]
  },
  {
   "cell_type": "code",
   "execution_count": 2,
   "id": "2e5a0466-5f81-487f-9235-cd628715389d",
   "metadata": {},
   "outputs": [
    {
     "name": "stdout",
     "output_type": "stream",
     "text": [
      "1,5 Star,5,100\n",
      "['1', '5 Star', '5', '100']\n",
      "2,Milky Bar,5,100\n",
      "['2', 'Milky Bar', '5', '100']\n",
      "3,Cake,300,10\n",
      "['3', 'Cake', '300', '10']\n",
      "4,Candy,2,240\n",
      "['4', 'Candy', '2', '240']\n"
     ]
    }
   ],
   "source": [
    "for product in products:\n",
    "    print(product)\n",
    "    print(product.split(','))"
   ]
  },
  {
   "cell_type": "code",
   "execution_count": 3,
   "id": "791de8f5-d9a5-43bb-8c22-41c05b6f24e5",
   "metadata": {},
   "outputs": [
    {
     "name": "stdout",
     "output_type": "stream",
     "text": [
      "1,5 Star,5,100\n",
      "2,Milky Bar,5,100\n",
      "3,Cake,300,10\n",
      "4,Candy,2,240\n"
     ]
    }
   ],
   "source": [
    "## Total Products in inventory\n",
    "for i in products:\n",
    "    print(i)"
   ]
  },
  {
   "cell_type": "code",
   "execution_count": 49,
   "id": "a5e6dc8c-0864-4567-8e9e-1bde73bf532a",
   "metadata": {},
   "outputs": [
    {
     "name": "stdin",
     "output_type": "stream",
     "text": [
      "Enter product ID:  2\n",
      "Enter product Quantity:  50\n"
     ]
    },
    {
     "name": "stdout",
     "output_type": "stream",
     "text": [
      "-----------------------------\n",
      "Product Name     :  Milky Bar\n",
      "Price            :  5\n",
      "Quantity         :  50\n",
      "-----------------------------\n",
      "Billing Amount   :  250\n",
      "-----------------------------\n",
      "-------------------\n",
      "Inventory Updated\n"
     ]
    }
   ],
   "source": [
    "# Reading the Inventory\n",
    "fd = open('Inventory.txt', 'r')  \n",
    "products = fd.read().split('\\n')\n",
    "fd.close()\n",
    "\n",
    "# Taking User Input\n",
    "ui_prod_id = input(\"Enter product ID: \")\n",
    "ui_prod_qn = input(\"Enter product Quantity: \")\n",
    "\n",
    "updated_product_lst = []\n",
    "\n",
    "# Going through each product detail\n",
    "for product in products:\n",
    "    \n",
    "    prod_details = product.split(',')\n",
    "    \n",
    "    # Ensuring we have 4 elements in prod_details before accessing them\n",
    "    if len(prod_details) == 4:\n",
    "        if prod_details[0] == ui_prod_id:\n",
    "            # Checking if product exists or not\n",
    "\n",
    "            if int(ui_prod_qn) <= int(prod_details[3]):\n",
    "                # If we're having enough quantity\n",
    "                print(\"-----------------------------\")\n",
    "                print(\"Product Name     : \", prod_details[1])\n",
    "                print(\"Price            : \", prod_details[2]) \n",
    "                print(\"Quantity         : \", ui_prod_qn) \n",
    "                print(\"-----------------------------\")\n",
    "                print(\"Billing Amount   : \", int(ui_prod_qn) * int(prod_details[2]))\n",
    "                print(\"-----------------------------\")\n",
    "\n",
    "                prod_details[3] = str(int(prod_details[3]) - int(ui_prod_qn))\n",
    "            \n",
    "            else:\n",
    "                # If we're not having enough quantity\n",
    "                print(\"Sorry, we're not having enough quantity.\")\n",
    "                print(\"We're having only\", prod_details[3], 'quantity.')\n",
    "                print(\"Would you like to purchase it?\")\n",
    "                \n",
    "                ch = input(\"Press Y/N: \")\n",
    "                \n",
    "                if ch.lower() == 'y':\n",
    "                    # If you want to purchase with remaining quantity\n",
    "                    print(\"-----------------------------\")\n",
    "                    print(\"Product Name     : \", prod_details[1])\n",
    "                    print(\"Price            : \", prod_details[2]) \n",
    "                    print(\"Quantity         : \", prod_details[3]) \n",
    "                    print(\"-----------------------------\")\n",
    "                    print(\"Billing Amount   : \", int(prod_details[3]) * int(prod_details[2]))\n",
    "                    print(\"-----------------------------\")\n",
    "                    prod_details[3] = '0'\n",
    "                else:\n",
    "                    print(\"Thanks\")\n",
    "        \n",
    "        # Updating my Inventory List\n",
    "        updated_product_lst.append(prod_details)\n",
    "    else:\n",
    "        # Handle cases with incorrect or incomplete product details\n",
    "        print(f\"Skipping incomplete product details: {prod_details}\")\n",
    "\n",
    "# Updating the Inventory String\n",
    "lst = []\n",
    "\n",
    "for i in updated_product_lst:\n",
    "    prod = i[0] + \",\" + i[1] + \",\" + i[2] + \",\" + i[3] + '\\n'\n",
    "    lst.append(prod)\n",
    "\n",
    "# Remove the last newline character\n",
    "if lst:\n",
    "    lst[-1] = lst[-1][:-1]\n",
    "\n",
    "# Updating Inventory File\n",
    "with open('Inventory.txt', 'w') as fd:\n",
    "    for i in lst:\n",
    "        fd.write(i)\n",
    "\n",
    "print(\"-------------------\")\n",
    "print(\"Inventory Updated\")\n"
   ]
  },
  {
   "cell_type": "code",
   "execution_count": null,
   "id": "acf7fdda-052e-49c1-96f9-f3d10c899dfa",
   "metadata": {},
   "outputs": [],
   "source": []
  }
 ],
 "metadata": {
  "kernelspec": {
   "display_name": "Python 3 (ipykernel)",
   "language": "python",
   "name": "python3"
  },
  "language_info": {
   "codemirror_mode": {
    "name": "ipython",
    "version": 3
   },
   "file_extension": ".py",
   "mimetype": "text/x-python",
   "name": "python",
   "nbconvert_exporter": "python",
   "pygments_lexer": "ipython3",
   "version": "3.10.7"
  }
 },
 "nbformat": 4,
 "nbformat_minor": 5
}
