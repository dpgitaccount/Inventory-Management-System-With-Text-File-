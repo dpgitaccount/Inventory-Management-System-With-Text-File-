{
 "cells": [
  {
   "cell_type": "markdown",
   "id": "6cb9b91f-9e09-4b48-978b-c30b851e551e",
   "metadata": {},
   "source": [
    "# 1.Overview"
   ]
  },
  {
   "cell_type": "code",
   "execution_count": 2,
   "id": "e2bf00c0-0b75-4071-b8fd-aafa73afc0cd",
   "metadata": {},
   "outputs": [],
   "source": [
    "fd = open(\"Inventory.txt\", 'w')\n",
    "fd.close()"
   ]
  },
  {
   "cell_type": "markdown",
   "id": "54ac44bb-6ccb-4137-8928-640098d9c73e",
   "metadata": {},
   "source": [
    "# 2.Product Details\n",
    "1. Product ID\n",
    "2. Name of Product\n",
    "3. Price of Product\n",
    "4. Quantity\n",
    "5. Category"
   ]
  },
  {
   "cell_type": "code",
   "execution_count": 15,
   "id": "e781a1ed-1932-4b4b-bfe2-c48799d232ed",
   "metadata": {},
   "outputs": [],
   "source": [
    "fd = open('Inventory.txt','r')\n",
    "products = fd.read().split('\\n')\n",
    "fd.close()"
   ]
  },
  {
   "cell_type": "code",
   "execution_count": 18,
   "id": "eb84c9f1-9bd2-4d1e-ac2f-7e7e309a55e7",
   "metadata": {},
   "outputs": [
    {
     "name": "stdout",
     "output_type": "stream",
     "text": [
      "1,5 Star,5,100\n",
      "['1', '5 Star', '5', '100']\n",
      "2,Milky Bar,5,100\n",
      "['2', 'Milky Bar', '5', '100']\n",
      "3,Cake,300,10\n",
      "['3', 'Cake', '300', '10']\n",
      "4,Candy,2,240\n",
      "['4', 'Candy', '2', '240']\n"
     ]
    }
   ],
   "source": [
    "for product in products:\n",
    "    print(product)\n",
    "    print(product.split(','))"
   ]
  },
  {
   "cell_type": "code",
   "execution_count": 19,
   "id": "ce79a34a-e2c7-49d7-99ad-a72ca1b58ddf",
   "metadata": {},
   "outputs": [
    {
     "name": "stdout",
     "output_type": "stream",
     "text": [
      "1,5 Star,5,100\n",
      "2,Milky Bar,5,100\n",
      "3,Cake,300,10\n",
      "4,Candy,2,240\n"
     ]
    }
   ],
   "source": [
    "for i in products:\n",
    "    print(i)"
   ]
  },
  {
   "cell_type": "code",
   "execution_count": 24,
   "id": "66cd0fc5-c889-4ae4-8cba-81e6389b29fc",
   "metadata": {},
   "outputs": [
    {
     "name": "stdin",
     "output_type": "stream",
     "text": [
      "Enter the product ID:  1\n",
      "Enter the product Quantity:  2\n"
     ]
    },
    {
     "name": "stdout",
     "output_type": "stream",
     "text": [
      "--------------------------------\n",
      "Product Name           :  5 Star\n",
      "Price                  :  5\n",
      "Quantity               :  100\n",
      "--------------------------------\n",
      "Billing amount         : 10\n",
      "--------------------------------\n"
     ]
    }
   ],
   "source": [
    "ui_prod_Id = input(\"Enter the product ID: \")\n",
    "ui_prod_qn = input(\"Enter the product Quantity: \")\n",
    "\n",
    "for product in products:\n",
    "    prod_details = product.split(',')\n",
    "    \n",
    "    if(prod_details[0] == ui_prod_Id):\n",
    "        print('-'*32)\n",
    "        print('Product Name           : ' , prod_details[1])\n",
    "        print('Price                  : ' , prod_details[2])\n",
    "        print('Quantity               : ' , prod_details[3])\n",
    "        print('-'*32)\n",
    "        print('Billing amount         :' ,  int(ui_prod_qn) * int(prod_details[2]))\n",
    "        print('-'*32)\n"
   ]
  },
  {
   "cell_type": "code",
   "execution_count": 14,
   "id": "b576d0f4-57bd-43c8-971a-f8a3cc351d80",
   "metadata": {},
   "outputs": [
    {
     "data": {
      "text/plain": [
       "4"
      ]
     },
     "execution_count": 14,
     "metadata": {},
     "output_type": "execute_result"
    }
   ],
   "source": [
    "len(txt.split('\\n'))"
   ]
  },
  {
   "cell_type": "code",
   "execution_count": null,
   "id": "d1727ab1-4fa1-4221-8529-620cd546d9a5",
   "metadata": {},
   "outputs": [],
   "source": []
  }
 ],
 "metadata": {
  "kernelspec": {
   "display_name": "Python 3 (ipykernel)",
   "language": "python",
   "name": "python3"
  },
  "language_info": {
   "codemirror_mode": {
    "name": "ipython",
    "version": 3
   },
   "file_extension": ".py",
   "mimetype": "text/x-python",
   "name": "python",
   "nbconvert_exporter": "python",
   "pygments_lexer": "ipython3",
   "version": "3.10.7"
  }
 },
 "nbformat": 4,
 "nbformat_minor": 5
}
